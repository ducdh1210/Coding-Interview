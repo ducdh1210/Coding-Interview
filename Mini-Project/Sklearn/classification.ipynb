{
 "cells": [
  {
   "cell_type": "code",
   "execution_count": 1,
   "metadata": {},
   "outputs": [],
   "source": [
    "import numpy as np\n",
    "from sklearn.datasets import make_classification\n",
    "from sklearn.model_selection import train_test_split, cross_val_score\n",
    "from sklearn.preprocessing import StandardScaler\n",
    "from sklearn.linear_model import LogisticRegression\n",
    "from sklearn.tree import DecisionTreeClassifier\n",
    "from sklearn.ensemble import RandomForestClassifier\n",
    "from sklearn.svm import SVC\n",
    "from sklearn.metrics import accuracy_score, classification_report, confusion_matrix\n",
    "from sklearn.model_selection import StratifiedKFold"
   ]
  },
  {
   "cell_type": "code",
   "execution_count": 2,
   "metadata": {},
   "outputs": [],
   "source": [
    "# Generate synthetic data\n",
    "X, y = make_classification(n_samples=1000, n_features=5, n_informative=3, n_redundant=1, n_classes=3, n_clusters_per_class=2, random_state=42)\n"
   ]
  },
  {
   "cell_type": "code",
   "execution_count": 3,
   "metadata": {},
   "outputs": [],
   "source": [
    "# Split the data into training and testing sets\n",
    "X_train, X_test, y_train, y_test = train_test_split(X, y, test_size=0.2, random_state=42, stratify=y)"
   ]
  },
  {
   "cell_type": "code",
   "execution_count": 4,
   "metadata": {},
   "outputs": [],
   "source": [
    "# Scale the features\n",
    "scaler = StandardScaler()\n",
    "X_train_scaled = scaler.fit_transform(X_train)\n",
    "X_test_scaled = scaler.transform(X_test)"
   ]
  },
  {
   "cell_type": "code",
   "execution_count": 7,
   "metadata": {},
   "outputs": [],
   "source": [
    "# Define classification models\n",
    "models = {\n",
    "    \"Logistic Regression\": LogisticRegression(multi_class='ovr', random_state=42),\n",
    "    \"Decision Tree\": DecisionTreeClassifier(random_state=42),\n",
    "    \"Random Forest\": RandomForestClassifier(n_estimators=100, random_state=42),\n",
    "    \"SVM\": SVC(kernel='rbf', random_state=42)\n",
    "}\n"
   ]
  },
  {
   "cell_type": "code",
   "execution_count": 8,
   "metadata": {},
   "outputs": [],
   "source": [
    "# Function to evaluate models\n",
    "def evaluate_model(model, X_train, X_test, y_train, y_test):\n",
    "    model.fit(X_train, y_train)\n",
    "    y_pred = model.predict(X_test)\n",
    "    accuracy = accuracy_score(y_test, y_pred)\n",
    "    return accuracy, classification_report(y_test, y_pred), confusion_matrix(y_test, y_pred)"
   ]
  },
  {
   "cell_type": "code",
   "execution_count": 9,
   "metadata": {},
   "outputs": [
    {
     "name": "stderr",
     "output_type": "stream",
     "text": [
      "/Users/ducdo/Repo/Coding-Interview/.venv/lib/python3.12/site-packages/sklearn/linear_model/_logistic.py:1256: FutureWarning: 'multi_class' was deprecated in version 1.5 and will be removed in 1.7. Use OneVsRestClassifier(LogisticRegression(..)) instead. Leave it to its default value to avoid this warning.\n",
      "  warnings.warn(\n",
      "/Users/ducdo/Repo/Coding-Interview/.venv/lib/python3.12/site-packages/sklearn/linear_model/_logistic.py:1256: FutureWarning: 'multi_class' was deprecated in version 1.5 and will be removed in 1.7. Use OneVsRestClassifier(LogisticRegression(..)) instead. Leave it to its default value to avoid this warning.\n",
      "  warnings.warn(\n",
      "/Users/ducdo/Repo/Coding-Interview/.venv/lib/python3.12/site-packages/sklearn/linear_model/_logistic.py:1256: FutureWarning: 'multi_class' was deprecated in version 1.5 and will be removed in 1.7. Use OneVsRestClassifier(LogisticRegression(..)) instead. Leave it to its default value to avoid this warning.\n",
      "  warnings.warn(\n",
      "/Users/ducdo/Repo/Coding-Interview/.venv/lib/python3.12/site-packages/sklearn/linear_model/_logistic.py:1256: FutureWarning: 'multi_class' was deprecated in version 1.5 and will be removed in 1.7. Use OneVsRestClassifier(LogisticRegression(..)) instead. Leave it to its default value to avoid this warning.\n",
      "  warnings.warn(\n",
      "/Users/ducdo/Repo/Coding-Interview/.venv/lib/python3.12/site-packages/sklearn/linear_model/_logistic.py:1256: FutureWarning: 'multi_class' was deprecated in version 1.5 and will be removed in 1.7. Use OneVsRestClassifier(LogisticRegression(..)) instead. Leave it to its default value to avoid this warning.\n",
      "  warnings.warn(\n",
      "/Users/ducdo/Repo/Coding-Interview/.venv/lib/python3.12/site-packages/sklearn/linear_model/_logistic.py:1256: FutureWarning: 'multi_class' was deprecated in version 1.5 and will be removed in 1.7. Use OneVsRestClassifier(LogisticRegression(..)) instead. Leave it to its default value to avoid this warning.\n",
      "  warnings.warn(\n"
     ]
    }
   ],
   "source": [
    "# Train and evaluate models\n",
    "results = {}\n",
    "for name, model in models.items():\n",
    "    accuracy, report, cm = evaluate_model(model, X_train_scaled, X_test_scaled, y_train, y_test)\n",
    "    results[name] = {\"Accuracy\": accuracy, \"Report\": report, \"Confusion Matrix\": cm}\n",
    "    \n",
    "    # Perform stratified k-fold cross-validation\n",
    "    cv = StratifiedKFold(n_splits=5, shuffle=True, random_state=42)\n",
    "    cv_scores = cross_val_score(model, X_train_scaled, y_train, cv=cv, scoring='accuracy')\n",
    "    results[name][\"CV_Accuracy\"] = cv_scores.mean()"
   ]
  },
  {
   "cell_type": "code",
   "execution_count": 10,
   "metadata": {},
   "outputs": [
    {
     "name": "stdout",
     "output_type": "stream",
     "text": [
      "Model Evaluation Results:\n",
      "\n",
      "Logistic Regression:\n",
      "  Accuracy: 0.6800\n",
      "  Cross-validation Accuracy: 0.6488\n",
      "  Classification Report:\n",
      "              precision    recall  f1-score   support\n",
      "\n",
      "           0       0.62      0.79      0.70        67\n",
      "           1       0.60      0.39      0.48        66\n",
      "           2       0.79      0.85      0.82        67\n",
      "\n",
      "    accuracy                           0.68       200\n",
      "   macro avg       0.67      0.68      0.66       200\n",
      "weighted avg       0.67      0.68      0.67       200\n",
      "\n",
      "  Confusion Matrix:\n",
      "[[53  9  5]\n",
      " [30 26 10]\n",
      " [ 2  8 57]]\n",
      "\n",
      "Decision Tree:\n",
      "  Accuracy: 0.8150\n",
      "  Cross-validation Accuracy: 0.8313\n",
      "  Classification Report:\n",
      "              precision    recall  f1-score   support\n",
      "\n",
      "           0       0.81      0.85      0.83        67\n",
      "           1       0.76      0.85      0.80        66\n",
      "           2       0.89      0.75      0.81        67\n",
      "\n",
      "    accuracy                           0.81       200\n",
      "   macro avg       0.82      0.82      0.82       200\n",
      "weighted avg       0.82      0.81      0.82       200\n",
      "\n",
      "  Confusion Matrix:\n",
      "[[57  6  4]\n",
      " [ 8 56  2]\n",
      " [ 5 12 50]]\n",
      "\n",
      "Random Forest:\n",
      "  Accuracy: 0.8750\n",
      "  Cross-validation Accuracy: 0.8763\n",
      "  Classification Report:\n",
      "              precision    recall  f1-score   support\n",
      "\n",
      "           0       0.89      0.82      0.85        67\n",
      "           1       0.86      0.92      0.89        66\n",
      "           2       0.88      0.88      0.88        67\n",
      "\n",
      "    accuracy                           0.88       200\n",
      "   macro avg       0.88      0.88      0.87       200\n",
      "weighted avg       0.88      0.88      0.87       200\n",
      "\n",
      "  Confusion Matrix:\n",
      "[[55  4  8]\n",
      " [ 5 61  0]\n",
      " [ 2  6 59]]\n",
      "\n",
      "SVM:\n",
      "  Accuracy: 0.8800\n",
      "  Cross-validation Accuracy: 0.8637\n",
      "  Classification Report:\n",
      "              precision    recall  f1-score   support\n",
      "\n",
      "           0       0.92      0.85      0.88        67\n",
      "           1       0.86      0.92      0.89        66\n",
      "           2       0.87      0.87      0.87        67\n",
      "\n",
      "    accuracy                           0.88       200\n",
      "   macro avg       0.88      0.88      0.88       200\n",
      "weighted avg       0.88      0.88      0.88       200\n",
      "\n",
      "  Confusion Matrix:\n",
      "[[57  5  5]\n",
      " [ 1 61  4]\n",
      " [ 4  5 58]]\n"
     ]
    }
   ],
   "source": [
    "# Print results\n",
    "print(\"Model Evaluation Results:\")\n",
    "for name, metrics in results.items():\n",
    "    print(f\"\\n{name}:\")\n",
    "    print(f\"  Accuracy: {metrics['Accuracy']:.4f}\")\n",
    "    print(f\"  Cross-validation Accuracy: {metrics['CV_Accuracy']:.4f}\")\n",
    "    print(\"  Classification Report:\")\n",
    "    print(metrics['Report'])\n",
    "    print(\"  Confusion Matrix:\")\n",
    "    print(metrics['Confusion Matrix'])\n"
   ]
  },
  {
   "cell_type": "code",
   "execution_count": 11,
   "metadata": {},
   "outputs": [
    {
     "name": "stdout",
     "output_type": "stream",
     "text": [
      "\n",
      "Random Forest Feature Importances:\n",
      "Feature 1: 0.2066\n",
      "Feature 2: 0.2432\n",
      "Feature 3: 0.3084\n",
      "Feature 4: 0.0475\n",
      "Feature 5: 0.1944\n"
     ]
    }
   ],
   "source": [
    "# Feature importance for Random Forest\n",
    "rf_model = models[\"Random Forest\"]\n",
    "rf_model.fit(X_train_scaled, y_train)\n",
    "feature_importance = rf_model.feature_importances_\n",
    "print(\"\\nRandom Forest Feature Importances:\")\n",
    "for i, importance in enumerate(feature_importance):\n",
    "    print(f\"Feature {i+1}: {importance:.4f}\")"
   ]
  },
  {
   "cell_type": "code",
   "execution_count": 12,
   "metadata": {},
   "outputs": [
    {
     "name": "stdout",
     "output_type": "stream",
     "text": [
      "\n",
      "Predictions on new data:\n",
      "\n",
      "Logistic Regression predictions:\n",
      "[0 0 2 0 0]\n",
      "\n",
      "Decision Tree predictions:\n",
      "[1 0 1 1 2]\n",
      "\n",
      "Random Forest predictions:\n",
      "[0 0 1 1 0]\n",
      "\n",
      "SVM predictions:\n",
      "[0 0 1 1 0]\n"
     ]
    }
   ],
   "source": [
    "# Predictions on new data\n",
    "new_data = np.random.randn(5, 5)  # 5 samples with 5 features\n",
    "new_data_scaled = scaler.transform(new_data)\n",
    "print(\"\\nPredictions on new data:\")\n",
    "for name, model in models.items():\n",
    "    predictions = model.predict(new_data_scaled)\n",
    "    print(f\"\\n{name} predictions:\")\n",
    "    print(predictions)"
   ]
  },
  {
   "cell_type": "code",
   "execution_count": null,
   "metadata": {},
   "outputs": [],
   "source": []
  }
 ],
 "metadata": {
  "kernelspec": {
   "display_name": ".venv",
   "language": "python",
   "name": "python3"
  },
  "language_info": {
   "codemirror_mode": {
    "name": "ipython",
    "version": 3
   },
   "file_extension": ".py",
   "mimetype": "text/x-python",
   "name": "python",
   "nbconvert_exporter": "python",
   "pygments_lexer": "ipython3",
   "version": "3.12.4"
  }
 },
 "nbformat": 4,
 "nbformat_minor": 2
}
