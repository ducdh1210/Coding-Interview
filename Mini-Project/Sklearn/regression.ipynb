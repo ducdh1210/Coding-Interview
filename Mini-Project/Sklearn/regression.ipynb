{
 "cells": [
  {
   "cell_type": "code",
   "execution_count": 1,
   "metadata": {},
   "outputs": [],
   "source": [
    "import numpy as np\n",
    "from sklearn.datasets import make_regression\n",
    "from sklearn.model_selection import train_test_split, cross_val_score\n",
    "from sklearn.linear_model import LinearRegression, ElasticNet\n",
    "from sklearn.tree import DecisionTreeRegressor\n",
    "from sklearn.ensemble import RandomForestRegressor\n",
    "from sklearn.metrics import mean_squared_error, r2_score\n",
    "from sklearn.preprocessing import StandardScaler"
   ]
  },
  {
   "cell_type": "code",
   "execution_count": 2,
   "metadata": {},
   "outputs": [],
   "source": [
    "# Generate synthetic data\n",
    "X, y = make_regression(n_samples=1000, n_features=5, noise=0.1, random_state=42)\n"
   ]
  },
  {
   "cell_type": "code",
   "execution_count": 5,
   "metadata": {},
   "outputs": [],
   "source": [
    "# Split the data into training and testing sets\n",
    "X_train, X_test, y_train, y_test = train_test_split(X, y, test_size=0.2, random_state=42)"
   ]
  },
  {
   "cell_type": "code",
   "execution_count": 6,
   "metadata": {},
   "outputs": [],
   "source": [
    "# Scale the features\n",
    "scaler = StandardScaler()\n",
    "X_train_scaled = scaler.fit_transform(X_train)\n",
    "X_test_scaled = scaler.transform(X_test)\n"
   ]
  },
  {
   "cell_type": "code",
   "execution_count": 7,
   "metadata": {},
   "outputs": [],
   "source": [
    "# Define regression models\n",
    "models = {\n",
    "    \"Linear Regression\": LinearRegression(),\n",
    "    \"Elastic Net\": ElasticNet(random_state=42),\n",
    "    \"Decision Tree\": DecisionTreeRegressor(random_state=42),\n",
    "    \"Random Forest\": RandomForestRegressor(n_estimators=100, random_state=42)\n",
    "}"
   ]
  },
  {
   "cell_type": "code",
   "execution_count": 8,
   "metadata": {},
   "outputs": [],
   "source": [
    "# Function to evaluate models\n",
    "def evaluate_model(model, X_train, X_test, y_train, y_test):\n",
    "    model.fit(X_train, y_train)\n",
    "    y_pred = model.predict(X_test)\n",
    "    mse = mean_squared_error(y_test, y_pred)\n",
    "    r2 = r2_score(y_test, y_pred)\n",
    "    return mse, r2"
   ]
  },
  {
   "cell_type": "code",
   "execution_count": 9,
   "metadata": {},
   "outputs": [],
   "source": [
    "# Train and evaluate models\n",
    "results = {}\n",
    "for name, model in models.items():\n",
    "    mse, r2 = evaluate_model(model, X_train_scaled, X_test_scaled, y_train, y_test)\n",
    "    results[name] = {\"MSE\": mse, \"R2\": r2}\n",
    "    \n",
    "    # Perform k-fold cross-validation\n",
    "    cv_scores = cross_val_score(model, X_train_scaled, y_train, cv=5, scoring='neg_mean_squared_error')\n",
    "    results[name][\"CV_MSE\"] = -cv_scores.mean()"
   ]
  },
  {
   "cell_type": "code",
   "execution_count": 10,
   "metadata": {},
   "outputs": [
    {
     "data": {
      "text/plain": [
       "array([-420.4442946 , -368.23838509, -501.78841082, -360.04808479,\n",
       "       -455.25057276])"
      ]
     },
     "execution_count": 10,
     "metadata": {},
     "output_type": "execute_result"
    }
   ],
   "source": [
    "cv_scores"
   ]
  },
  {
   "cell_type": "code",
   "execution_count": 11,
   "metadata": {},
   "outputs": [
    {
     "name": "stdout",
     "output_type": "stream",
     "text": [
      "Model Evaluation Results:\n",
      "\n",
      "Linear Regression:\n",
      "  MSE: 0.0111\n",
      "  R2 Score: 1.0000\n",
      "  Cross-validation MSE: 0.0107\n",
      "\n",
      "Elastic Net:\n",
      "  MSE: 421.8960\n",
      "  R2 Score: 0.8857\n",
      "  Cross-validation MSE: 494.7647\n",
      "\n",
      "Decision Tree:\n",
      "  MSE: 1257.3113\n",
      "  R2 Score: 0.6595\n",
      "  Cross-validation MSE: 1052.7665\n",
      "\n",
      "Random Forest:\n",
      "  MSE: 287.4665\n",
      "  R2 Score: 0.9221\n",
      "  Cross-validation MSE: 421.1539\n"
     ]
    }
   ],
   "source": [
    "# Print results\n",
    "print(\"Model Evaluation Results:\")\n",
    "for name, metrics in results.items():\n",
    "    print(f\"\\n{name}:\")\n",
    "    print(f\"  MSE: {metrics['MSE']:.4f}\")\n",
    "    print(f\"  R2 Score: {metrics['R2']:.4f}\")\n",
    "    print(f\"  Cross-validation MSE: {metrics['CV_MSE']:.4f}\")\n"
   ]
  },
  {
   "cell_type": "code",
   "execution_count": 12,
   "metadata": {},
   "outputs": [
    {
     "name": "stdout",
     "output_type": "stream",
     "text": [
      "\n",
      "Random Forest Feature Importances:\n",
      "Feature 1: 0.1744\n",
      "Feature 2: 0.5509\n",
      "Feature 3: 0.0565\n",
      "Feature 4: 0.1429\n",
      "Feature 5: 0.0754\n",
      "\n",
      "Predictions on new data:\n",
      "\n",
      "Linear Regression predictions:\n",
      "[-92.36023744  45.25618869 101.92074446 -46.24919157  48.12860369]\n",
      "\n",
      "Elastic Net predictions:\n",
      "[-59.79264174  30.11116806  68.78762484 -29.3996923   32.79799676]\n",
      "\n",
      "Decision Tree predictions:\n",
      "[-66.02238338  85.63467548  91.67081579 -30.78130271  76.77816146]\n",
      "\n",
      "Random Forest predictions:\n",
      "[-64.36531148  28.99323804  86.76561245 -47.23289757  38.69939278]\n"
     ]
    }
   ],
   "source": [
    "# Feature importance for Random Forest\n",
    "rf_model = models[\"Random Forest\"]\n",
    "rf_model.fit(X_train_scaled, y_train)\n",
    "feature_importance = rf_model.feature_importances_\n",
    "print(\"\\nRandom Forest Feature Importances:\")\n",
    "for i, importance in enumerate(feature_importance):\n",
    "    print(f\"Feature {i+1}: {importance:.4f}\")\n",
    "\n",
    "# Predictions on new data\n",
    "new_data = np.random.randn(5, 5)  # 5 samples with 5 features\n",
    "new_data_scaled = scaler.transform(new_data)\n",
    "print(\"\\nPredictions on new data:\")\n",
    "for name, model in models.items():\n",
    "    predictions = model.predict(new_data_scaled)\n",
    "    print(f\"\\n{name} predictions:\")\n",
    "    print(predictions)\n"
   ]
  },
  {
   "cell_type": "code",
   "execution_count": null,
   "metadata": {},
   "outputs": [],
   "source": []
  }
 ],
 "metadata": {
  "kernelspec": {
   "display_name": ".venv",
   "language": "python",
   "name": "python3"
  },
  "language_info": {
   "codemirror_mode": {
    "name": "ipython",
    "version": 3
   },
   "file_extension": ".py",
   "mimetype": "text/x-python",
   "name": "python",
   "nbconvert_exporter": "python",
   "pygments_lexer": "ipython3",
   "version": "3.12.4"
  }
 },
 "nbformat": 4,
 "nbformat_minor": 2
}
